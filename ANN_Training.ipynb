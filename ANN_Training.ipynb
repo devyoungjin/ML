{
  "nbformat": 4,
  "nbformat_minor": 0,
  "metadata": {
    "colab": {
      "name": "ANN_Training.ipynb",
      "provenance": [],
      "collapsed_sections": [],
      "authorship_tag": "ABX9TyMP1kvOjPP3krXjHnXDuGML",
      "include_colab_link": true
    },
    "kernelspec": {
      "name": "python3",
      "display_name": "Python 3"
    },
    "language_info": {
      "name": "python"
    }
  },
  "cells": [
    {
      "cell_type": "markdown",
      "metadata": {
        "id": "view-in-github",
        "colab_type": "text"
      },
      "source": [
        "<a href=\"https://colab.research.google.com/github/devyoungjin/ML/blob/main/ANN_Training.ipynb\" target=\"_parent\"><img src=\"https://colab.research.google.com/assets/colab-badge.svg\" alt=\"Open In Colab\"/></a>"
      ]
    },
    {
      "cell_type": "markdown",
      "source": [
        "## Training Neural Networks: Loss Function\n",
        "\n",
        "Example\n",
        "\n",
        "- Squard loss(for regression)\n",
        "\n",
        "$ {\\frac {1}{m}}$ ${\\displaystyle \\sum _{i=1}^{m} loss(h_w(x^i),y^i)^2\n",
        "}$\n",
        "\n",
        "- Corss entropy(for classification)\n",
        ": 다시 체크하고 작성할것"
      ],
      "metadata": {
        "id": "9p0Sl_FanDyE"
      }
    },
    {
      "cell_type": "markdown",
      "source": [
        "## Gradients in ANN\n",
        "\n",
        "Learning weights and biases  form data using gradient descent.\n",
        "\n",
        "$ {\\displaystyle {\\frac {\\partial l}{\\partial w}}}$ too many computations are required for all w\n",
        "\n",
        "Structural constraint of NN:\n",
        "- Composition of functions\n",
        "- Chain rule\n",
        "- Dynamic Programming\n",
        "\n",
        "\n",
        "### Dynamic Programming\n",
        "##### Memorized Recursive Algorithm\n",
        "\n",
        "Depends on solutions to smaller instances of the same problem(=sub-problem)\n",
        "\n",
        "$ F_1 = F_2 = 1$\n",
        "\n",
        "$ F_n = F_{n-1} = F_{n-2}$"
      ],
      "metadata": {
        "id": "zXmZc58Ep-5n"
      }
    },
    {
      "cell_type": "markdown",
      "source": [
        "### Backpropagation\n",
        "\n",
        "##### Forward propagation\n",
        ": the initial information propagates up to the hidden units at each layer and finally produces output \n",
        "\n",
        "##### Backpropagation\n",
        ": allows the information form the cost to flow backwards through the network in order to compute the gradients"
      ],
      "metadata": {
        "id": "bbDHlQhItrPu"
      }
    },
    {
      "cell_type": "markdown",
      "source": [
        "##### Chain Rule\n",
        "\n",
        "$f(g(x))' = f'(g(x))g'(x)$ \n",
        "\n",
        "$ {\\displaystyle {\\frac {\\partial f(g(x)) }{\\partial x}}}$ = \n",
        "$ {\\displaystyle {\\frac {\\partial f}{\\partial g}}}$$ {\\displaystyle {\\frac {\\partial g}{\\partial x}}}$\n",
        "\n",
        "-----\n",
        "\n",
        "##### Backpropagation\n",
        "Update weights recursively\n",
        "\n",
        ": 중복된 계산 없이 효율적으로 계산 "
      ],
      "metadata": {
        "id": "-Z7OUvibuq8i"
      }
    },
    {
      "cell_type": "code",
      "source": [
        ""
      ],
      "metadata": {
        "id": "7XZ3HOJApkyv"
      },
      "execution_count": null,
      "outputs": []
    }
  ]
}