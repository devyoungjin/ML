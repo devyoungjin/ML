{
  "nbformat": 4,
  "nbformat_minor": 0,
  "metadata": {
    "colab": {
      "name": "ML Tensorflow Practice",
      "provenance": [],
      "collapsed_sections": [],
      "authorship_tag": "ABX9TyPAkpamw9X/q5Prt5BCyhbD",
      "include_colab_link": true
    },
    "kernelspec": {
      "name": "python3",
      "display_name": "Python 3"
    },
    "language_info": {
      "name": "python"
    }
  },
  "cells": [
    {
      "cell_type": "markdown",
      "metadata": {
        "id": "view-in-github",
        "colab_type": "text"
      },
      "source": [
        "<a href=\"https://colab.research.google.com/github/devyoungjin/ML/blob/main/ML_Tensorflow_Practice.ipynb\" target=\"_parent\"><img src=\"https://colab.research.google.com/assets/colab-badge.svg\" alt=\"Open In Colab\"/></a>"
      ]
    },
    {
      "cell_type": "code",
      "execution_count": 1,
      "metadata": {
        "id": "wtyCkajoXrP7"
      },
      "outputs": [],
      "source": [
        "import tensorflow as tf"
      ]
    },
    {
      "cell_type": "code",
      "source": [
        "a = tf.constant([1,2,3])\n",
        "b = tf.constant(4,shape=[1,3])\n",
        "A = a+b\n",
        "B = a*b\n",
        "\n",
        "tf.print(A)"
      ],
      "metadata": {
        "colab": {
          "base_uri": "https://localhost:8080/"
        },
        "id": "LljCASENXt2b",
        "outputId": "b0e23ec1-c559-40f5-d08c-0b90700f625c"
      },
      "execution_count": 2,
      "outputs": [
        {
          "output_type": "stream",
          "name": "stdout",
          "text": [
            "[[5 6 7]]\n"
          ]
        }
      ]
    },
    {
      "cell_type": "code",
      "source": [
        "tf.__version__\n",
        "# tf version 2.0.0에서는 Session을 정의하고 런하는 과정 생략\n",
        "# sess = tf.Session()\n",
        "# sess.run(A)"
      ],
      "metadata": {
        "colab": {
          "base_uri": "https://localhost:8080/",
          "height": 36
        },
        "id": "UKcBnRohX3NX",
        "outputId": "24e943b5-e330-4474-81f9-3d4f356b2bab"
      },
      "execution_count": 3,
      "outputs": [
        {
          "output_type": "execute_result",
          "data": {
            "text/plain": [
              "'2.8.0'"
            ],
            "application/vnd.google.colaboratory.intrinsic+json": {
              "type": "string"
            }
          },
          "metadata": {},
          "execution_count": 3
        }
      ]
    },
    {
      "cell_type": "code",
      "source": [
        "#Interactive Session: 끝나고 세션을 닫음\n",
        "a = tf.constant([1,2,3])\n",
        "b = tf.constant([4,5,6])\n",
        "\n",
        "result = tf.multiply(a,b)\n",
        "\n",
        "# with tf.Session() as sess:\n",
        "  # output = sess.run(result)\n",
        "  # print(output)\n",
        "tf.print(result)"
      ],
      "metadata": {
        "colab": {
          "base_uri": "https://localhost:8080/"
        },
        "id": "QSuXDh99X6r7",
        "outputId": "299dfae4-b600-4f0d-d010-b71418cf6415"
      },
      "execution_count": 4,
      "outputs": [
        {
          "output_type": "stream",
          "name": "stdout",
          "text": [
            "[4 10 18]\n"
          ]
        }
      ]
    },
    {
      "cell_type": "code",
      "source": [
        "x1 = tf.Variable([1,1],dtype=tf.float32)\n",
        "x2 = tf.Variable([2,2],dtype=tf.float32)\n",
        "y=x1+x2\n",
        "\n",
        "# sess = tf.Session()\n",
        "# init = tf.global_variables_initializer()\n",
        "# sess.run(init)\n",
        "\n",
        "tf.print(y)"
      ],
      "metadata": {
        "colab": {
          "base_uri": "https://localhost:8080/"
        },
        "id": "JhvzPlJ8YK1w",
        "outputId": "a0e988a6-bc7f-4582-caef-a6006dc6b249"
      },
      "execution_count": 5,
      "outputs": [
        {
          "output_type": "stream",
          "name": "stdout",
          "text": [
            "[3 3]\n"
          ]
        }
      ]
    },
    {
      "cell_type": "code",
      "source": [
        "import tensorflow.compat.v1 as tf \n",
        "tf.disable_v2_behavior()\n",
        "\n",
        "x = tf.placeholder(tf.float32,shape=[2,2])\n",
        "sess = tf.Session()\n",
        "sess.run(x,feed_dict={x:[[1,2],[3,4]]})\n",
        "\n",
        "\n",
        "a = tf.placeholder(tf.float32, shape=[2])\n",
        "b = tf.placeholder(tf.float32, shape=[2])\n",
        "\n",
        "sum = a+b\n",
        "\n",
        "sess.run(sum,feed_dict={a:[1,2],b:[3,4]})\n"
      ],
      "metadata": {
        "colab": {
          "base_uri": "https://localhost:8080/"
        },
        "id": "mCY8_VckZMs1",
        "outputId": "1a7e1c2c-ff2a-4c73-dac8-c44bbc2582f9"
      },
      "execution_count": 6,
      "outputs": [
        {
          "output_type": "stream",
          "name": "stdout",
          "text": [
            "WARNING:tensorflow:From /usr/local/lib/python3.7/dist-packages/tensorflow/python/compat/v2_compat.py:107: disable_resource_variables (from tensorflow.python.ops.variable_scope) is deprecated and will be removed in a future version.\n",
            "Instructions for updating:\n",
            "non-resource variables are not supported in the long term\n"
          ]
        },
        {
          "output_type": "execute_result",
          "data": {
            "text/plain": [
              "array([4., 6.], dtype=float32)"
            ]
          },
          "metadata": {},
          "execution_count": 6
        }
      ]
    },
    {
      "cell_type": "code",
      "source": [
        "x1 = tf.constant(1,shape=[3])\n",
        "x2 = tf.constant(2,shape=[3])\n",
        "output = tf.add(x1,x2)\n",
        "\n",
        "with tf.Session() as sess:\n",
        "  result = sess.run(output)\n",
        "  print(result)"
      ],
      "metadata": {
        "colab": {
          "base_uri": "https://localhost:8080/"
        },
        "id": "5BZ0UkmmZ2nI",
        "outputId": "b266b8ef-38a6-4010-a1fc-d4299f80e186"
      },
      "execution_count": 7,
      "outputs": [
        {
          "output_type": "stream",
          "name": "stdout",
          "text": [
            "[3 3 3]\n"
          ]
        }
      ]
    },
    {
      "cell_type": "code",
      "source": [
        "x1 = tf.constant(1,shape=[2,3])\n",
        "x2 = tf.constant(2,shape=[2,3])\n",
        "output = tf.add(x1,x2)\n",
        "\n",
        "with tf.Session() as sess:\n",
        "  result = sess.run(output)\n",
        "  print(result)"
      ],
      "metadata": {
        "colab": {
          "base_uri": "https://localhost:8080/"
        },
        "id": "J7ZRpHgYaodr",
        "outputId": "0225ae84-4ba5-4818-d72c-f31247b0ea30"
      },
      "execution_count": 8,
      "outputs": [
        {
          "output_type": "stream",
          "name": "stdout",
          "text": [
            "[[3 3 3]\n",
            " [3 3 3]]\n"
          ]
        }
      ]
    },
    {
      "cell_type": "code",
      "source": [
        "x1 = tf.constant([[1,2],[3,4]])\n",
        "x2 = tf.constant([[2],[3]])\n",
        "\n",
        "#이게 곱이 정확\n",
        "output1 = tf.matmul(x1,x2)\n",
        "with tf.Session() as sess:\n",
        "  result = sess.run(output1)\n",
        "  print(result)\n",
        "\n",
        "#혼동 주의\n",
        "output2 = x1*x2\n",
        "with tf.Session() as sess:\n",
        "  result = sess.run(output2)\n",
        "  print(result)"
      ],
      "metadata": {
        "colab": {
          "base_uri": "https://localhost:8080/"
        },
        "id": "GCYnw_P4arcW",
        "outputId": "e228df69-b5ab-4f27-c56a-0c9454d67251"
      },
      "execution_count": 9,
      "outputs": [
        {
          "output_type": "stream",
          "name": "stdout",
          "text": [
            "[[ 8]\n",
            " [18]]\n",
            "[[ 2  4]\n",
            " [ 9 12]]\n"
          ]
        }
      ]
    },
    {
      "cell_type": "code",
      "source": [
        "x = [1,2,3,4,5,6,7,8]\n",
        "x_re = tf.reshape(x,[4,2])\n",
        "sess =tf.Session()\n",
        "sess.run(x_re)"
      ],
      "metadata": {
        "colab": {
          "base_uri": "https://localhost:8080/"
        },
        "id": "q2utHnUua8EK",
        "outputId": "3332842b-943c-4088-9d7b-6f90cbc9d46e"
      },
      "execution_count": 10,
      "outputs": [
        {
          "output_type": "execute_result",
          "data": {
            "text/plain": [
              "array([[1, 2],\n",
              "       [3, 4],\n",
              "       [5, 6],\n",
              "       [7, 8]], dtype=int32)"
            ]
          },
          "metadata": {},
          "execution_count": 10
        }
      ]
    },
    {
      "cell_type": "code",
      "source": [
        "#-1 은 자동 filling\n",
        "x_re = tf.reshape(x,[2,-1])\n",
        "sess = tf.Session()\n",
        "sess.run(x_re)"
      ],
      "metadata": {
        "colab": {
          "base_uri": "https://localhost:8080/"
        },
        "id": "gc5IxQ9sbWcN",
        "outputId": "98497874-84d1-40e6-97ff-acba3581e717"
      },
      "execution_count": 11,
      "outputs": [
        {
          "output_type": "execute_result",
          "data": {
            "text/plain": [
              "array([[1, 2, 3, 4],\n",
              "       [5, 6, 7, 8]], dtype=int32)"
            ]
          },
          "metadata": {},
          "execution_count": 11
        }
      ]
    },
    {
      "cell_type": "markdown",
      "source": [
        "$\\displaystyle\\min_{\\omega}(\\omega-4){^2}$"
      ],
      "metadata": {
        "id": "iBdAC7qQcAPE"
      }
    },
    {
      "cell_type": "code",
      "source": [
        "w = tf.Variable(0,dtype=tf.float32)\n",
        "cost = w*w - 8*w + 16\n",
        "LR =0.05\n",
        "optm = tf.train.GradientDescentOptimizer(LR).minimize(cost)\n",
        "\n",
        "init = tf.global_variables_initializer()\n",
        "\n",
        "sess = tf.Session()\n",
        "sess.run(init)\n",
        "\n",
        "print(sess.run(w))"
      ],
      "metadata": {
        "colab": {
          "base_uri": "https://localhost:8080/"
        },
        "id": "DOcMC__BdhW-",
        "outputId": "6977b2d6-ac50-48a9-89b4-d22fad473e8b"
      },
      "execution_count": 12,
      "outputs": [
        {
          "output_type": "stream",
          "name": "stdout",
          "text": [
            "0.0\n"
          ]
        }
      ]
    },
    {
      "cell_type": "code",
      "source": [
        "#run one step of gradient descent\n",
        "sess.run(optm)\n",
        "print(sess.run(w))\n",
        "\n",
        "#runs two step of gradient descent\n",
        "sess.run(optm)\n",
        "print(sess.run(w))"
      ],
      "metadata": {
        "colab": {
          "base_uri": "https://localhost:8080/"
        },
        "id": "UiA34kfMdx6b",
        "outputId": "db9ac78b-90c4-4e7c-f90b-3d3b9326b289"
      },
      "execution_count": 13,
      "outputs": [
        {
          "output_type": "stream",
          "name": "stdout",
          "text": [
            "0.4\n",
            "0.76\n"
          ]
        }
      ]
    },
    {
      "cell_type": "code",
      "source": [
        "#100 times\n",
        "for _ in range(100):\n",
        "  sess.run(optm)\n",
        "\n",
        "print(sess.run(w))\n",
        "sess.close()"
      ],
      "metadata": {
        "colab": {
          "base_uri": "https://localhost:8080/"
        },
        "id": "bXfIWu5deKk0",
        "outputId": "e351fc3f-8924-4b7c-b497-1bae2b34c17a"
      },
      "execution_count": 14,
      "outputs": [
        {
          "output_type": "stream",
          "name": "stdout",
          "text": [
            "3.9999142\n"
          ]
        }
      ]
    },
    {
      "cell_type": "markdown",
      "source": [
        "$\\hat y_i =\\omega{x_i}+b$\n",
        "\n",
        "$\\displaystyle\\min_{\\omega,b}$\n",
        "$\\displaystyle\\sum_{i=1}^{m}({\\hat  y_i-y_i)^2}$"
      ],
      "metadata": {
        "id": "Dm4wHv-VfC6O"
      }
    },
    {
      "cell_type": "code",
      "source": [
        "LR = 0.001\n",
        "n_iter =10000\n",
        "\n",
        "x = tf.placeholder(tf.float32,[m,1])\n",
        "y = tf.placeholder(tf.float32,[m,1])\n",
        "\n",
        "w = tf.Variable([[0]],dtype=tf.float32)\n",
        "b = tf.Variable([[0]],dtype=tf.float32)\n",
        "\n",
        "#y_pred = tf.matmul(x,w)+b\n",
        "y_pred = tf.add(tf.matmul(x,w),b)\n",
        "loss =tf.square(y_pred-y)\n",
        "loss =tf.reduce_mean(loss) #sclar\n",
        "\n",
        "optm = tf.train.GradientDescentOptimizer(LR).minimize(loss)\n",
        "\n",
        "loss_record=[]\n",
        "\n",
        "# sess = tf.Session()\n",
        "# sess.run(tf.global_variables_initializer())\n",
        "\n",
        "# for epoch in range(n_iter):\n",
        "#   _,c = sess.run([optm,loss],feed_dict={x:train_x,y:train_y})\n",
        "#   loss_record.append(c)\n",
        "# w_val = sess.run(w)\n",
        "# b_val = sess.run(b)\n",
        "with tf.Session() as sess:\n",
        "  sess.run(tf.global_variables_initializer())\n",
        "  for epoch in range(n_iter):\n",
        "    sess.run(optm,feed_dict={x:train_x, y:train_y})\n",
        "  w_val=sess.run(w)\n",
        "  b_val=sess.run(b)\n",
        "\n",
        "sess.close()"
      ],
      "metadata": {
        "colab": {
          "base_uri": "https://localhost:8080/",
          "height": 241
        },
        "id": "wU4dU9PSgFBZ",
        "outputId": "b481bb93-3203-46e6-a953-60d1f5411968"
      },
      "execution_count": 15,
      "outputs": [
        {
          "output_type": "error",
          "ename": "NameError",
          "evalue": "ignored",
          "traceback": [
            "\u001b[0;31m---------------------------------------------------------------------------\u001b[0m",
            "\u001b[0;31mNameError\u001b[0m                                 Traceback (most recent call last)",
            "\u001b[0;32m<ipython-input-15-ebf8fb158379>\u001b[0m in \u001b[0;36m<module>\u001b[0;34m()\u001b[0m\n\u001b[1;32m      2\u001b[0m \u001b[0mn_iter\u001b[0m \u001b[0;34m=\u001b[0m\u001b[0;36m10000\u001b[0m\u001b[0;34m\u001b[0m\u001b[0;34m\u001b[0m\u001b[0m\n\u001b[1;32m      3\u001b[0m \u001b[0;34m\u001b[0m\u001b[0m\n\u001b[0;32m----> 4\u001b[0;31m \u001b[0mx\u001b[0m \u001b[0;34m=\u001b[0m \u001b[0mtf\u001b[0m\u001b[0;34m.\u001b[0m\u001b[0mplaceholder\u001b[0m\u001b[0;34m(\u001b[0m\u001b[0mtf\u001b[0m\u001b[0;34m.\u001b[0m\u001b[0mfloat32\u001b[0m\u001b[0;34m,\u001b[0m\u001b[0;34m[\u001b[0m\u001b[0mm\u001b[0m\u001b[0;34m,\u001b[0m\u001b[0;36m1\u001b[0m\u001b[0;34m]\u001b[0m\u001b[0;34m)\u001b[0m\u001b[0;34m\u001b[0m\u001b[0;34m\u001b[0m\u001b[0m\n\u001b[0m\u001b[1;32m      5\u001b[0m \u001b[0my\u001b[0m \u001b[0;34m=\u001b[0m \u001b[0mtf\u001b[0m\u001b[0;34m.\u001b[0m\u001b[0mplaceholder\u001b[0m\u001b[0;34m(\u001b[0m\u001b[0mtf\u001b[0m\u001b[0;34m.\u001b[0m\u001b[0mfloat32\u001b[0m\u001b[0;34m,\u001b[0m\u001b[0;34m[\u001b[0m\u001b[0mm\u001b[0m\u001b[0;34m,\u001b[0m\u001b[0;36m1\u001b[0m\u001b[0;34m]\u001b[0m\u001b[0;34m)\u001b[0m\u001b[0;34m\u001b[0m\u001b[0;34m\u001b[0m\u001b[0m\n\u001b[1;32m      6\u001b[0m \u001b[0;34m\u001b[0m\u001b[0m\n",
            "\u001b[0;31mNameError\u001b[0m: name 'm' is not defined"
          ]
        }
      ]
    },
    {
      "cell_type": "code",
      "source": [
        "#Tensorflow embedded functions\n",
        "# - tf.nn.sigmoid_cross_entropy_with_logits: for binary classification\n",
        "# - tf.nn.softmax_cross_entropy_with_logits: for multiclass classification"
      ],
      "metadata": {
        "id": "90L1WF_dglGD"
      },
      "execution_count": null,
      "outputs": []
    },
    {
      "cell_type": "code",
      "source": [
        "LR = 0.05\n",
        "n_iter = 30000\n",
        "\n",
        "X = tf.placeholder(tf.float32,[m,3])\n",
        "y = tf.placeholder(tf.float32,[m,3])\n",
        "\n",
        "w = tf.Variable(tf.random_normal([3,1]),dtype=tf.float32)\n",
        "\n",
        "\n",
        "# y_pred = tf.sigmoid(tf.matmul(X,w))\n",
        "# loss = y*tf.log(y_pred)-(1-y)*tf.log(1-y_pred)\n",
        "# loss - tf.reduce_mean(loss)\n",
        "\n",
        "y_pred = tf.matmul(X,w)\n",
        "loss = tf.nn.sigmoid_cross_entropy_with_logits(logits = y_pred, labels =y) #column\n",
        "loss = tf.reduce_mean(loss) #scalr\n",
        "\n",
        "optm = tf.train.GradientDescentOptimizer(LR).minimize(loss)\n",
        "\n",
        "with tf.Session() as sess:\n",
        "  sess.run(tf.global_variables_initializer())\n",
        "  for epoch in range(n_iter):\n",
        "    sess.run(optm,feed_dict={X: train_X, y: train_y})\n",
        "\n",
        "  w_hat = sess.run(w)"
      ],
      "metadata": {
        "id": "ve9QZtjejaOk"
      },
      "execution_count": null,
      "outputs": []
    },
    {
      "cell_type": "markdown",
      "source": [
        "σ: sigma/sigmoid함수\n",
        "\n",
        "λ: lambda/계수 등\n",
        "\n",
        "θ: 세타/파라메타\n",
        "\n",
        "$ \\forall $: 모든, 임의의\n",
        "\n",
        "∃: 어떤, 존재한다\n",
        " \n",
        "\n",
        "|B|: cardinality: number of items in set B\n",
        "\n",
        "||V||: norm:length of vector v\n",
        "\n",
        "R: the set of real numbers\n",
        "\n",
        "$ R^n $: real number space of dimension n\n",
        "\n",
        "$ R^2$ example: (1.3 , -2)\n",
        "\n",
        "$ \\vec{x}\\in R^n$: vector X는 N개의 real number value로 구성되어 있다.\n",
        "\n",
        "$ X \\in R^{n*m} $: 행렬X가 mxn크기로 이루어진 행렬이고 엘리먼트들이 real number 이다.\n",
        "\n",
        "$ 𝑦̂ =𝑤^𝑇𝑥 $:벡터의 내적으로 나타낼 수 있다.\n",
        "\n",
        "내적(inner product): $ 𝑥⋅𝑦=<𝑥,𝑦>=𝑥^𝑇𝑦$\n",
        "\n",
        "데이터의 평균: $\t\\overline{x}=\\frac{1}{𝑁}∑𝑖$"
      ],
      "metadata": {
        "id": "oj2WCVtm7IKd"
      }
    },
    {
      "cell_type": "code",
      "source": [
        ""
      ],
      "metadata": {
        "id": "xxH06Kyf7p0V"
      },
      "execution_count": null,
      "outputs": []
    }
  ]
}